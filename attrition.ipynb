{
  "cells": [
    {
      "cell_type": "markdown",
      "metadata": {
        "id": "alIIEHibGc3M"
      },
      "source": [
        "## Part 1: Preprocessing"
      ]
    },
    {
      "cell_type": "code",
      "execution_count": 145,
      "metadata": {
        "colab": {
          "base_uri": "https://localhost:8080/",
          "height": 325
        },
        "id": "6eDUJ4NtGc3P",
        "outputId": "2480098c-135c-4cbf-9552-018494ee8ff5"
      },
      "outputs": [
        {
          "data": {
            "text/html": [
              "<div>\n",
              "<style scoped>\n",
              "    .dataframe tbody tr th:only-of-type {\n",
              "        vertical-align: middle;\n",
              "    }\n",
              "\n",
              "    .dataframe tbody tr th {\n",
              "        vertical-align: top;\n",
              "    }\n",
              "\n",
              "    .dataframe thead th {\n",
              "        text-align: right;\n",
              "    }\n",
              "</style>\n",
              "<table border=\"1\" class=\"dataframe\">\n",
              "  <thead>\n",
              "    <tr style=\"text-align: right;\">\n",
              "      <th></th>\n",
              "      <th>Age</th>\n",
              "      <th>Attrition</th>\n",
              "      <th>BusinessTravel</th>\n",
              "      <th>Department</th>\n",
              "      <th>DistanceFromHome</th>\n",
              "      <th>Education</th>\n",
              "      <th>EducationField</th>\n",
              "      <th>EnvironmentSatisfaction</th>\n",
              "      <th>HourlyRate</th>\n",
              "      <th>JobInvolvement</th>\n",
              "      <th>...</th>\n",
              "      <th>PerformanceRating</th>\n",
              "      <th>RelationshipSatisfaction</th>\n",
              "      <th>StockOptionLevel</th>\n",
              "      <th>TotalWorkingYears</th>\n",
              "      <th>TrainingTimesLastYear</th>\n",
              "      <th>WorkLifeBalance</th>\n",
              "      <th>YearsAtCompany</th>\n",
              "      <th>YearsInCurrentRole</th>\n",
              "      <th>YearsSinceLastPromotion</th>\n",
              "      <th>YearsWithCurrManager</th>\n",
              "    </tr>\n",
              "  </thead>\n",
              "  <tbody>\n",
              "    <tr>\n",
              "      <th>0</th>\n",
              "      <td>41</td>\n",
              "      <td>Yes</td>\n",
              "      <td>Travel_Rarely</td>\n",
              "      <td>Sales</td>\n",
              "      <td>1</td>\n",
              "      <td>2</td>\n",
              "      <td>Life Sciences</td>\n",
              "      <td>2</td>\n",
              "      <td>94</td>\n",
              "      <td>3</td>\n",
              "      <td>...</td>\n",
              "      <td>3</td>\n",
              "      <td>1</td>\n",
              "      <td>0</td>\n",
              "      <td>8</td>\n",
              "      <td>0</td>\n",
              "      <td>1</td>\n",
              "      <td>6</td>\n",
              "      <td>4</td>\n",
              "      <td>0</td>\n",
              "      <td>5</td>\n",
              "    </tr>\n",
              "    <tr>\n",
              "      <th>1</th>\n",
              "      <td>49</td>\n",
              "      <td>No</td>\n",
              "      <td>Travel_Frequently</td>\n",
              "      <td>Research &amp; Development</td>\n",
              "      <td>8</td>\n",
              "      <td>1</td>\n",
              "      <td>Life Sciences</td>\n",
              "      <td>3</td>\n",
              "      <td>61</td>\n",
              "      <td>2</td>\n",
              "      <td>...</td>\n",
              "      <td>4</td>\n",
              "      <td>4</td>\n",
              "      <td>1</td>\n",
              "      <td>10</td>\n",
              "      <td>3</td>\n",
              "      <td>3</td>\n",
              "      <td>10</td>\n",
              "      <td>7</td>\n",
              "      <td>1</td>\n",
              "      <td>7</td>\n",
              "    </tr>\n",
              "    <tr>\n",
              "      <th>2</th>\n",
              "      <td>37</td>\n",
              "      <td>Yes</td>\n",
              "      <td>Travel_Rarely</td>\n",
              "      <td>Research &amp; Development</td>\n",
              "      <td>2</td>\n",
              "      <td>2</td>\n",
              "      <td>Other</td>\n",
              "      <td>4</td>\n",
              "      <td>92</td>\n",
              "      <td>2</td>\n",
              "      <td>...</td>\n",
              "      <td>3</td>\n",
              "      <td>2</td>\n",
              "      <td>0</td>\n",
              "      <td>7</td>\n",
              "      <td>3</td>\n",
              "      <td>3</td>\n",
              "      <td>0</td>\n",
              "      <td>0</td>\n",
              "      <td>0</td>\n",
              "      <td>0</td>\n",
              "    </tr>\n",
              "    <tr>\n",
              "      <th>3</th>\n",
              "      <td>33</td>\n",
              "      <td>No</td>\n",
              "      <td>Travel_Frequently</td>\n",
              "      <td>Research &amp; Development</td>\n",
              "      <td>3</td>\n",
              "      <td>4</td>\n",
              "      <td>Life Sciences</td>\n",
              "      <td>4</td>\n",
              "      <td>56</td>\n",
              "      <td>3</td>\n",
              "      <td>...</td>\n",
              "      <td>3</td>\n",
              "      <td>3</td>\n",
              "      <td>0</td>\n",
              "      <td>8</td>\n",
              "      <td>3</td>\n",
              "      <td>3</td>\n",
              "      <td>8</td>\n",
              "      <td>7</td>\n",
              "      <td>3</td>\n",
              "      <td>0</td>\n",
              "    </tr>\n",
              "    <tr>\n",
              "      <th>4</th>\n",
              "      <td>27</td>\n",
              "      <td>No</td>\n",
              "      <td>Travel_Rarely</td>\n",
              "      <td>Research &amp; Development</td>\n",
              "      <td>2</td>\n",
              "      <td>1</td>\n",
              "      <td>Medical</td>\n",
              "      <td>1</td>\n",
              "      <td>40</td>\n",
              "      <td>3</td>\n",
              "      <td>...</td>\n",
              "      <td>3</td>\n",
              "      <td>4</td>\n",
              "      <td>1</td>\n",
              "      <td>6</td>\n",
              "      <td>3</td>\n",
              "      <td>3</td>\n",
              "      <td>2</td>\n",
              "      <td>2</td>\n",
              "      <td>2</td>\n",
              "      <td>2</td>\n",
              "    </tr>\n",
              "  </tbody>\n",
              "</table>\n",
              "<p>5 rows × 27 columns</p>\n",
              "</div>"
            ],
            "text/plain": [
              "   Age Attrition     BusinessTravel              Department  DistanceFromHome  \\\n",
              "0   41       Yes      Travel_Rarely                   Sales                 1   \n",
              "1   49        No  Travel_Frequently  Research & Development                 8   \n",
              "2   37       Yes      Travel_Rarely  Research & Development                 2   \n",
              "3   33        No  Travel_Frequently  Research & Development                 3   \n",
              "4   27        No      Travel_Rarely  Research & Development                 2   \n",
              "\n",
              "   Education EducationField  EnvironmentSatisfaction  HourlyRate  \\\n",
              "0          2  Life Sciences                        2          94   \n",
              "1          1  Life Sciences                        3          61   \n",
              "2          2          Other                        4          92   \n",
              "3          4  Life Sciences                        4          56   \n",
              "4          1        Medical                        1          40   \n",
              "\n",
              "   JobInvolvement  ...  PerformanceRating RelationshipSatisfaction  \\\n",
              "0               3  ...                  3                        1   \n",
              "1               2  ...                  4                        4   \n",
              "2               2  ...                  3                        2   \n",
              "3               3  ...                  3                        3   \n",
              "4               3  ...                  3                        4   \n",
              "\n",
              "   StockOptionLevel TotalWorkingYears  TrainingTimesLastYear WorkLifeBalance  \\\n",
              "0                 0                 8                      0               1   \n",
              "1                 1                10                      3               3   \n",
              "2                 0                 7                      3               3   \n",
              "3                 0                 8                      3               3   \n",
              "4                 1                 6                      3               3   \n",
              "\n",
              "   YearsAtCompany  YearsInCurrentRole  YearsSinceLastPromotion  \\\n",
              "0               6                   4                        0   \n",
              "1              10                   7                        1   \n",
              "2               0                   0                        0   \n",
              "3               8                   7                        3   \n",
              "4               2                   2                        2   \n",
              "\n",
              "   YearsWithCurrManager  \n",
              "0                     5  \n",
              "1                     7  \n",
              "2                     0  \n",
              "3                     0  \n",
              "4                     2  \n",
              "\n",
              "[5 rows x 27 columns]"
            ]
          },
          "metadata": {},
          "output_type": "display_data"
        },
        {
          "data": {
            "text/plain": [
              "(1470, 27)"
            ]
          },
          "metadata": {},
          "output_type": "display_data"
        }
      ],
      "source": [
        "# Import our dependencies\n",
        "from sklearn.model_selection import train_test_split\n",
        "from sklearn.preprocessing import StandardScaler\n",
        "import pandas as pd\n",
        "import numpy as np\n",
        "from tensorflow.keras.models import Model\n",
        "from tensorflow.keras import layers\n",
        "\n",
        "#  Import and read the attrition data\n",
        "attrition_df = pd.read_csv('https://static.bc-edx.com/ai/ail-v-1-0/m19/lms/datasets/attrition.csv')\n",
        "display(attrition_df.head())\n",
        "display(attrition_df.shape)"
      ]
    },
    {
      "cell_type": "code",
      "execution_count": 146,
      "metadata": {
        "colab": {
          "base_uri": "https://localhost:8080/"
        },
        "id": "g22aQSY4Gc3Q",
        "outputId": "1f5c13c1-b981-4e40-a7ed-dd3fe6f1b81e"
      },
      "outputs": [
        {
          "data": {
            "text/plain": [
              "Age                         43\n",
              "Attrition                    2\n",
              "BusinessTravel               3\n",
              "Department                   3\n",
              "DistanceFromHome            29\n",
              "Education                    5\n",
              "EducationField               6\n",
              "EnvironmentSatisfaction      4\n",
              "HourlyRate                  71\n",
              "JobInvolvement               4\n",
              "JobLevel                     5\n",
              "JobRole                      9\n",
              "JobSatisfaction              4\n",
              "MaritalStatus                3\n",
              "NumCompaniesWorked          10\n",
              "OverTime                     2\n",
              "PercentSalaryHike           15\n",
              "PerformanceRating            2\n",
              "RelationshipSatisfaction     4\n",
              "StockOptionLevel             4\n",
              "TotalWorkingYears           40\n",
              "TrainingTimesLastYear        7\n",
              "WorkLifeBalance              4\n",
              "YearsAtCompany              37\n",
              "YearsInCurrentRole          19\n",
              "YearsSinceLastPromotion     16\n",
              "YearsWithCurrManager        18\n",
              "dtype: int64"
            ]
          },
          "execution_count": 146,
          "metadata": {},
          "output_type": "execute_result"
        }
      ],
      "source": [
        "# Determine the number of unique values in each column.\n",
        "attrition_df.nunique()"
      ]
    },
    {
      "cell_type": "code",
      "execution_count": 147,
      "metadata": {
        "id": "50vMgBEnJbfM"
      },
      "outputs": [
        {
          "name": "stdout",
          "output_type": "stream",
          "text": [
            "Attrition\n",
            "No     1233\n",
            "Yes     237\n",
            "Name: count, dtype: int64\n",
            "\n",
            "\n",
            "\n",
            "Department\n",
            "Research & Development    961\n",
            "Sales                     446\n",
            "Human Resources            63\n",
            "Name: count, dtype: int64\n"
          ]
        }
      ],
      "source": [
        "# Create y_df with the Attrition and Department columns\n",
        "y = attrition_df[['Attrition', 'Department']]\n",
        "print(y['Attrition'].value_counts())\n",
        "print('\\n\\n')\n",
        "print(y['Department'].value_counts())"
      ]
    },
    {
      "cell_type": "code",
      "execution_count": 148,
      "metadata": {
        "colab": {
          "base_uri": "https://localhost:8080/"
        },
        "id": "Virka0zLGc3R",
        "outputId": "dd5aee3a-9458-4ba6-e857-1b234de40915"
      },
      "outputs": [
        {
          "name": "stdout",
          "output_type": "stream",
          "text": [
            "['JobRole', 'RelationshipSatisfaction']\n",
            "Age                         int64\n",
            "BusinessTravel             object\n",
            "DistanceFromHome            int64\n",
            "Education                   int64\n",
            "EducationField             object\n",
            "EnvironmentSatisfaction     int64\n",
            "HourlyRate                  int64\n",
            "JobInvolvement              int64\n",
            "JobLevel                    int64\n",
            "JobSatisfaction             int64\n",
            "MaritalStatus              object\n",
            "NumCompaniesWorked          int64\n",
            "OverTime                   object\n",
            "PercentSalaryHike           int64\n",
            "PerformanceRating           int64\n",
            "StockOptionLevel            int64\n",
            "TotalWorkingYears           int64\n",
            "TrainingTimesLastYear       int64\n",
            "WorkLifeBalance             int64\n",
            "YearsAtCompany              int64\n",
            "YearsInCurrentRole          int64\n",
            "YearsSinceLastPromotion     int64\n",
            "YearsWithCurrManager        int64\n",
            "dtype: object\n"
          ]
        }
      ],
      "source": [
        "# Create a list of at least 10 column names to use as X data\n",
        "all_columns = ['Age', 'BusinessTravel', 'DistanceFromHome', 'Education',\n",
        "       'EducationField', 'EnvironmentSatisfaction', 'HourlyRate',\n",
        "       'JobInvolvement', 'JobLevel', 'JobRole', 'JobSatisfaction',\n",
        "       'MaritalStatus', 'NumCompaniesWorked', 'OverTime', 'PercentSalaryHike',\n",
        "       'PerformanceRating', 'RelationshipSatisfaction', 'StockOptionLevel',\n",
        "       'TotalWorkingYears', 'TrainingTimesLastYear', 'WorkLifeBalance',\n",
        "       'YearsAtCompany', 'YearsInCurrentRole', 'YearsSinceLastPromotion',\n",
        "       'YearsWithCurrManager']\n",
        "\n",
        "selected_columns = ['Age', 'BusinessTravel', 'DistanceFromHome', 'Education',\n",
        "       'EducationField', 'EnvironmentSatisfaction', 'HourlyRate',\n",
        "       'JobInvolvement', 'JobLevel', 'JobSatisfaction',\n",
        "       'MaritalStatus', 'NumCompaniesWorked', 'OverTime', 'PercentSalaryHike',\n",
        "       'PerformanceRating', 'StockOptionLevel',\n",
        "       'TotalWorkingYears', 'TrainingTimesLastYear', 'WorkLifeBalance',\n",
        "       'YearsAtCompany', 'YearsInCurrentRole', 'YearsSinceLastPromotion',\n",
        "       'YearsWithCurrManager']\n",
        "\n",
        "dropped_columns = [column for column in all_columns if column not in selected_columns]\n",
        "print(dropped_columns)\n",
        "# Create X_df using your selected columns\n",
        "X_df = attrition_df[selected_columns].copy()\n",
        "\n",
        "# Show the data types for X_df\n",
        "print(X_df.dtypes)\n"
      ]
    },
    {
      "cell_type": "code",
      "execution_count": 149,
      "metadata": {},
      "outputs": [],
      "source": [
        "# Split the data into training and testing sets\n",
        "from sklearn.model_selection import train_test_split\n",
        "from sklearn.preprocessing import OneHotEncoder, OrdinalEncoder\n",
        "X_train, X_test, y_train, y_test = train_test_split(X_df, y, random_state=1)"
      ]
    },
    {
      "cell_type": "code",
      "execution_count": 150,
      "metadata": {},
      "outputs": [
        {
          "name": "stdout",
          "output_type": "stream",
          "text": [
            "1102\n",
            "368\n"
          ]
        }
      ],
      "source": [
        "print(len(X_train))\n",
        "print(len(X_test))"
      ]
    },
    {
      "cell_type": "code",
      "execution_count": 151,
      "metadata": {},
      "outputs": [],
      "source": [
        "X_train.reset_index(drop=True, inplace=True)\n",
        "X_test.reset_index(drop=True, inplace=True)"
      ]
    },
    {
      "cell_type": "code",
      "execution_count": 152,
      "metadata": {
        "colab": {
          "base_uri": "https://localhost:8080/"
        },
        "id": "NYubUJqiLCSp",
        "outputId": "53f31721-571c-4c94-d13e-25a715749593"
      },
      "outputs": [
        {
          "name": "stderr",
          "output_type": "stream",
          "text": [
            "c:\\Users\\matt.dipinto\\AppData\\Local\\anaconda3\\Lib\\site-packages\\sklearn\\preprocessing\\_encoders.py:972: FutureWarning: `sparse` was renamed to `sparse_output` in version 1.2 and will be removed in 1.4. `sparse_output` is ignored unless you leave `sparse` to its default value.\n",
            "  warnings.warn(\n",
            "c:\\Users\\matt.dipinto\\AppData\\Local\\anaconda3\\Lib\\site-packages\\sklearn\\preprocessing\\_encoders.py:972: FutureWarning: `sparse` was renamed to `sparse_output` in version 1.2 and will be removed in 1.4. `sparse_output` is ignored unless you leave `sparse` to its default value.\n",
            "  warnings.warn(\n"
          ]
        }
      ],
      "source": [
        "# Convert your X data to numeric data types however you see fit\n",
        "# Add new code cells as necessary\n",
        "\n",
        "#ordinally encode business travel\n",
        "travel_encoder = OrdinalEncoder(categories=[['Non-Travel', 'Travel_Rarely', 'Travel_Frequently']])\n",
        "X_train['BusinessTravel'] = travel_encoder.fit_transform(X_train[['BusinessTravel']])\n",
        "X_test['BusinessTravel'] = travel_encoder.transform(X_test[['BusinessTravel']])\n",
        "\n",
        "# one hot encode education field\n",
        "education_encoder = OneHotEncoder(sparse=False)\n",
        "education_encoder.fit(X_train[['EducationField']])\n",
        "X_train_encoded_field = education_encoder.transform(X_train[['EducationField']])\n",
        "X_test_encoded_field = education_encoder.transform(X_test[['EducationField']])\n",
        "X_train_encoded_field = pd.DataFrame(X_train_encoded_field, columns=education_encoder.get_feature_names_out())\n",
        "X_test_encoded_field = pd.DataFrame(X_test_encoded_field, columns=education_encoder.get_feature_names_out())\n",
        "\n",
        "#one hot encode Job Role\n",
        "# role_encoder = OneHotEncoder(sparse=False)\n",
        "# role_encoder.fit(X_train[['JobRole']])\n",
        "# X_train_encoded_role = role_encoder.transform(X_train[['JobRole']])\n",
        "# X_test_encoded_role = role_encoder.transform(X_test[['JobRole']])\n",
        "# X_train_encoded_role = pd.DataFrame(X_train_encoded_role, columns=role_encoder.get_feature_names_out())\n",
        "# X_test_encoded_role = pd.DataFrame(X_test_encoded_role, columns=role_encoder.get_feature_names_out())\n",
        "\n",
        "\n",
        "#binary encode overtime\n",
        "X_train['OverTime'] = X_train['OverTime'].apply(lambda x: 1 if x == 'Yes' else 0)\n",
        "X_test['OverTime'] = X_test['OverTime'].apply(lambda x: 1 if x == 'Yes' else 0)\n",
        "\n",
        "#one hot encode marital status\n",
        "marital_encoder = OneHotEncoder(sparse=False)\n",
        "marital_encoder.fit(X_train[['MaritalStatus']])\n",
        "X_train_encoded_marital = marital_encoder.transform(X_train[['MaritalStatus']])\n",
        "X_test_encoded_marital = marital_encoder.transform(X_test[['MaritalStatus']])\n",
        "X_train_encoded_marital = pd.DataFrame(X_train_encoded_marital, columns=marital_encoder.get_feature_names_out())\n",
        "X_test_encoded_marital = pd.DataFrame(X_test_encoded_marital, columns=marital_encoder.get_feature_names_out())\n",
        "\n",
        "# # #drop the original columns\n",
        "# X_train = X_train.drop(columns=['EducationField', 'JobRole', 'MaritalStatus'])\n",
        "# X_test = X_test.drop(columns=['EducationField', 'JobRole', 'MaritalStatus'])\n",
        "\n",
        "# # #concatenate the dataframes\n",
        "# X_train_encoded = pd.concat([X_train, X_train_encoded_field, X_train_encoded_role, X_train_encoded_marital], axis=1, sort=False)\n",
        "# X_test_encoded = pd.concat([X_test, X_test_encoded_field, X_test_encoded_role, X_test_encoded_marital], axis=1, sort=False)\n",
        "\n",
        "# #concatenate the dataframes (testing without role as role can easily be tied back to department)\n",
        "X_train = X_train.drop(columns=['EducationField', 'MaritalStatus'])\n",
        "X_test = X_test.drop(columns=['EducationField', 'MaritalStatus'])\n",
        "X_train_encoded = pd.concat([X_train, X_train_encoded_field, X_train_encoded_marital], axis=1, sort=False)\n",
        "X_test_encoded = pd.concat([X_test, X_test_encoded_field, X_test_encoded_marital], axis=1, sort=False)\n"
      ]
    },
    {
      "cell_type": "code",
      "execution_count": 153,
      "metadata": {},
      "outputs": [],
      "source": [
        "# Create a StandardScaler\n",
        "scaler = StandardScaler()\n",
        "\n",
        "# Fit the StandardScaler to the training data\n",
        "scaler.fit(X_train_encoded)\n",
        "\n",
        "# Scale the training and testing data\n",
        "X_train_scaled = scaler.transform(X_train_encoded)\n",
        "X_test_scaled = scaler.transform(X_test_encoded)\n"
      ]
    },
    {
      "cell_type": "code",
      "execution_count": 154,
      "metadata": {},
      "outputs": [
        {
          "name": "stdout",
          "output_type": "stream",
          "text": [
            "1102\n",
            "368\n"
          ]
        },
        {
          "name": "stderr",
          "output_type": "stream",
          "text": [
            "c:\\Users\\matt.dipinto\\AppData\\Local\\anaconda3\\Lib\\site-packages\\sklearn\\preprocessing\\_encoders.py:972: FutureWarning: `sparse` was renamed to `sparse_output` in version 1.2 and will be removed in 1.4. `sparse_output` is ignored unless you leave `sparse` to its default value.\n",
            "  warnings.warn(\n"
          ]
        }
      ],
      "source": [
        "# Create a OneHotEncoder for the Department column\n",
        "department_encoder = OneHotEncoder(sparse=False)\n",
        "\n",
        "# Fit the encoder to the training data\n",
        "department_encoder.fit(y_train[['Department']])\n",
        "\n",
        "# Create two new variables by applying the encoder\n",
        "# to the training and testing data\n",
        "y_train_department_encoded = department_encoder.transform(y_train[['Department']])\n",
        "y_test_department_encoded = department_encoder.transform(y_test[['Department']])\n",
        "\n",
        "print(len(y_train_department_encoded))\n",
        "print(len(y_test_department_encoded))"
      ]
    },
    {
      "cell_type": "code",
      "execution_count": 155,
      "metadata": {
        "colab": {
          "base_uri": "https://localhost:8080/"
        },
        "id": "-G4DSpvFRrk4",
        "outputId": "9842e948-8a55-4b80-8fac-f96714e85589"
      },
      "outputs": [
        {
          "name": "stdout",
          "output_type": "stream",
          "text": [
            "1102\n",
            "368\n"
          ]
        },
        {
          "name": "stderr",
          "output_type": "stream",
          "text": [
            "c:\\Users\\matt.dipinto\\AppData\\Local\\anaconda3\\Lib\\site-packages\\sklearn\\preprocessing\\_encoders.py:972: FutureWarning: `sparse` was renamed to `sparse_output` in version 1.2 and will be removed in 1.4. `sparse_output` is ignored unless you leave `sparse` to its default value.\n",
            "  warnings.warn(\n"
          ]
        }
      ],
      "source": [
        "# Create a OneHotEncoder for the Attrition column\n",
        "attrition_encoder = OneHotEncoder(sparse=False)\n",
        "\n",
        "# Fit the encoder to the training data\n",
        "attrition_encoder.fit(y_train[['Attrition']])\n",
        "\n",
        "# Create two new variables by applying the encoder\n",
        "# to the training and testing data\n",
        "y_train_attrition_encoded = attrition_encoder.transform(y_train[['Attrition']])\n",
        "y_test_attrition_encoded = attrition_encoder.transform(y_test[['Attrition']])\n",
        "\n",
        "print(len(y_train_attrition_encoded))\n",
        "print(len(y_test_attrition_encoded))"
      ]
    },
    {
      "cell_type": "markdown",
      "metadata": {
        "id": "ykNmu_WWGc3T"
      },
      "source": [
        "## Create, Compile, and Train the Model"
      ]
    },
    {
      "cell_type": "code",
      "execution_count": 156,
      "metadata": {
        "id": "WUptZqmSGc3T"
      },
      "outputs": [],
      "source": [
        "# Find the number of columns in the X training data\n",
        "input_features = X_train_scaled.shape[1]\n",
        "\n",
        "# Create the input layer\n",
        "input_layer = layers.Input(shape=input_features, name='input_layer')\n",
        "\n",
        "# Create at least two shared layers\n",
        "shared_layer_1 = layers.Dense(units=16, activation='relu', name='shared_layer_1')(input_layer)\n",
        "shared_layer_2 = layers.Dense(units=8, activation='relu', name='shared_layer_2')(shared_layer_1)"
      ]
    },
    {
      "cell_type": "code",
      "execution_count": 157,
      "metadata": {
        "id": "JukjTm2yTEqd"
      },
      "outputs": [],
      "source": [
        "# Create a branch for Department\n",
        "# with a hidden layer and an output layer\n",
        "\n",
        "# Create the hidden layer\n",
        "department_hidden_layer = layers.Dense(units=8, activation='relu', name='department_hidden_layer')(shared_layer_2)\n",
        "\n",
        "# Create the output layer\n",
        "department_output_layer = layers.Dense(units=3, activation='softmax', name='department_output_layer')(department_hidden_layer)"
      ]
    },
    {
      "cell_type": "code",
      "execution_count": 158,
      "metadata": {
        "id": "9OqhUiOJUBkR"
      },
      "outputs": [],
      "source": [
        "# Create a branch for Attrition\n",
        "# with a hidden layer and an output layer\n",
        "\n",
        "# Create the hidden layer\n",
        "attrition_hidden_layer = layers.Dense(units=8, activation='relu', name='attrition_hidden_layer')(shared_layer_2)\n",
        "\n",
        "# Create the output layer\n",
        "attrition_output_layer = layers.Dense(units=2, activation='sigmoid', name='attrition_output_layer')(attrition_hidden_layer)"
      ]
    },
    {
      "cell_type": "code",
      "execution_count": 159,
      "metadata": {
        "colab": {
          "base_uri": "https://localhost:8080/"
        },
        "id": "twmuejdxGc3T",
        "outputId": "25096308-b68b-42e4-e4ea-ae82e97c435a"
      },
      "outputs": [
        {
          "name": "stdout",
          "output_type": "stream",
          "text": [
            "Model: \"model_9\"\n",
            "__________________________________________________________________________________________________\n",
            " Layer (type)                Output Shape                 Param #   Connected to                  \n",
            "==================================================================================================\n",
            " input_layer (InputLayer)    [(None, 30)]                 0         []                            \n",
            "                                                                                                  \n",
            " shared_layer_1 (Dense)      (None, 16)                   496       ['input_layer[0][0]']         \n",
            "                                                                                                  \n",
            " shared_layer_2 (Dense)      (None, 8)                    136       ['shared_layer_1[0][0]']      \n",
            "                                                                                                  \n",
            " department_hidden_layer (D  (None, 8)                    72        ['shared_layer_2[0][0]']      \n",
            " ense)                                                                                            \n",
            "                                                                                                  \n",
            " attrition_hidden_layer (De  (None, 8)                    72        ['shared_layer_2[0][0]']      \n",
            " nse)                                                                                             \n",
            "                                                                                                  \n",
            " department_output_layer (D  (None, 3)                    27        ['department_hidden_layer[0][0\n",
            " ense)                                                              ]']                           \n",
            "                                                                                                  \n",
            " attrition_output_layer (De  (None, 2)                    18        ['attrition_hidden_layer[0][0]\n",
            " nse)                                                               ']                            \n",
            "                                                                                                  \n",
            "==================================================================================================\n",
            "Total params: 821 (3.21 KB)\n",
            "Trainable params: 821 (3.21 KB)\n",
            "Non-trainable params: 0 (0.00 Byte)\n",
            "__________________________________________________________________________________________________\n"
          ]
        }
      ],
      "source": [
        "# Create the model\n",
        "model = Model(\n",
        "    inputs=input_layer,\n",
        "    outputs=[department_output_layer, attrition_output_layer]\n",
        ")\n",
        "\n",
        "# Compile the model\n",
        "model.compile(\n",
        "    optimizer='adam',\n",
        "    loss={\n",
        "        'department_output_layer': 'categorical_crossentropy',\n",
        "        'attrition_output_layer': 'binary_crossentropy'\n",
        "    },\n",
        "    metrics=['accuracy']\n",
        ")\n",
        "\n",
        "# Summarize the model\n",
        "model.summary()"
      ]
    },
    {
      "cell_type": "code",
      "execution_count": 160,
      "metadata": {
        "colab": {
          "base_uri": "https://localhost:8080/"
        },
        "id": "c8oGy0dpGc3U",
        "outputId": "cc667d43-28cf-42d4-d719-c2bc02888d30"
      },
      "outputs": [
        {
          "name": "stdout",
          "output_type": "stream",
          "text": [
            "Epoch 1/100\n"
          ]
        },
        {
          "name": "stdout",
          "output_type": "stream",
          "text": [
            "35/35 - 1s - loss: 1.7574 - department_output_layer_loss: 0.9944 - attrition_output_layer_loss: 0.7630 - department_output_layer_accuracy: 0.5653 - attrition_output_layer_accuracy: 0.2577 - val_loss: 1.6388 - val_department_output_layer_loss: 0.9283 - val_attrition_output_layer_loss: 0.7105 - val_department_output_layer_accuracy: 0.6060 - val_attrition_output_layer_accuracy: 0.4973 - 1s/epoch - 33ms/step\n",
            "Epoch 2/100\n",
            "35/35 - 0s - loss: 1.5703 - department_output_layer_loss: 0.8757 - attrition_output_layer_loss: 0.6947 - department_output_layer_accuracy: 0.6633 - attrition_output_layer_accuracy: 0.6461 - val_loss: 1.5014 - val_department_output_layer_loss: 0.8295 - val_attrition_output_layer_loss: 0.6718 - val_department_output_layer_accuracy: 0.6413 - val_attrition_output_layer_accuracy: 0.7663 - 91ms/epoch - 3ms/step\n",
            "Epoch 3/100\n",
            "35/35 - 0s - loss: 1.4240 - department_output_layer_loss: 0.7831 - attrition_output_layer_loss: 0.6409 - department_output_layer_accuracy: 0.6633 - attrition_output_layer_accuracy: 0.8203 - val_loss: 1.3955 - val_department_output_layer_loss: 0.7766 - val_attrition_output_layer_loss: 0.6189 - val_department_output_layer_accuracy: 0.6495 - val_attrition_output_layer_accuracy: 0.8016 - 77ms/epoch - 2ms/step\n",
            "Epoch 4/100\n",
            "35/35 - 0s - loss: 1.3080 - department_output_layer_loss: 0.7396 - attrition_output_layer_loss: 0.5683 - department_output_layer_accuracy: 0.6697 - attrition_output_layer_accuracy: 0.8412 - val_loss: 1.3142 - val_department_output_layer_loss: 0.7577 - val_attrition_output_layer_loss: 0.5565 - val_department_output_layer_accuracy: 0.6522 - val_attrition_output_layer_accuracy: 0.8152 - 76ms/epoch - 2ms/step\n",
            "Epoch 5/100\n",
            "35/35 - 0s - loss: 1.2157 - department_output_layer_loss: 0.7191 - attrition_output_layer_loss: 0.4966 - department_output_layer_accuracy: 0.6806 - attrition_output_layer_accuracy: 0.8457 - val_loss: 1.2545 - val_department_output_layer_loss: 0.7437 - val_attrition_output_layer_loss: 0.5108 - val_department_output_layer_accuracy: 0.6603 - val_attrition_output_layer_accuracy: 0.8152 - 79ms/epoch - 2ms/step\n",
            "Epoch 6/100\n",
            "35/35 - 0s - loss: 1.1511 - department_output_layer_loss: 0.7042 - attrition_output_layer_loss: 0.4470 - department_output_layer_accuracy: 0.6969 - attrition_output_layer_accuracy: 0.8475 - val_loss: 1.2129 - val_department_output_layer_loss: 0.7314 - val_attrition_output_layer_loss: 0.4816 - val_department_output_layer_accuracy: 0.6793 - val_attrition_output_layer_accuracy: 0.8152 - 74ms/epoch - 2ms/step\n",
            "Epoch 7/100\n",
            "35/35 - 0s - loss: 1.1037 - department_output_layer_loss: 0.6899 - attrition_output_layer_loss: 0.4138 - department_output_layer_accuracy: 0.7132 - attrition_output_layer_accuracy: 0.8494 - val_loss: 1.1818 - val_department_output_layer_loss: 0.7176 - val_attrition_output_layer_loss: 0.4642 - val_department_output_layer_accuracy: 0.6793 - val_attrition_output_layer_accuracy: 0.8152 - 68ms/epoch - 2ms/step\n",
            "Epoch 8/100\n",
            "35/35 - 0s - loss: 1.0645 - department_output_layer_loss: 0.6715 - attrition_output_layer_loss: 0.3930 - department_output_layer_accuracy: 0.7269 - attrition_output_layer_accuracy: 0.8503 - val_loss: 1.1538 - val_department_output_layer_loss: 0.7020 - val_attrition_output_layer_loss: 0.4518 - val_department_output_layer_accuracy: 0.6902 - val_attrition_output_layer_accuracy: 0.8179 - 66ms/epoch - 2ms/step\n",
            "Epoch 9/100\n",
            "35/35 - 0s - loss: 1.0312 - department_output_layer_loss: 0.6529 - attrition_output_layer_loss: 0.3784 - department_output_layer_accuracy: 0.7359 - attrition_output_layer_accuracy: 0.8530 - val_loss: 1.1271 - val_department_output_layer_loss: 0.6808 - val_attrition_output_layer_loss: 0.4463 - val_department_output_layer_accuracy: 0.7092 - val_attrition_output_layer_accuracy: 0.8152 - 73ms/epoch - 2ms/step\n",
            "Epoch 10/100\n",
            "35/35 - 0s - loss: 0.9989 - department_output_layer_loss: 0.6294 - attrition_output_layer_loss: 0.3695 - department_output_layer_accuracy: 0.7477 - attrition_output_layer_accuracy: 0.8539 - val_loss: 1.0981 - val_department_output_layer_loss: 0.6573 - val_attrition_output_layer_loss: 0.4408 - val_department_output_layer_accuracy: 0.7418 - val_attrition_output_layer_accuracy: 0.8207 - 91ms/epoch - 3ms/step\n",
            "Epoch 11/100\n",
            "35/35 - 0s - loss: 0.9690 - department_output_layer_loss: 0.6083 - attrition_output_layer_loss: 0.3607 - department_output_layer_accuracy: 0.7650 - attrition_output_layer_accuracy: 0.8621 - val_loss: 1.0735 - val_department_output_layer_loss: 0.6358 - val_attrition_output_layer_loss: 0.4378 - val_department_output_layer_accuracy: 0.7500 - val_attrition_output_layer_accuracy: 0.8207 - 75ms/epoch - 2ms/step\n",
            "Epoch 12/100\n",
            "35/35 - 0s - loss: 0.9443 - department_output_layer_loss: 0.5911 - attrition_output_layer_loss: 0.3532 - department_output_layer_accuracy: 0.7704 - attrition_output_layer_accuracy: 0.8639 - val_loss: 1.0512 - val_department_output_layer_loss: 0.6213 - val_attrition_output_layer_loss: 0.4299 - val_department_output_layer_accuracy: 0.7527 - val_attrition_output_layer_accuracy: 0.8207 - 81ms/epoch - 2ms/step\n",
            "Epoch 13/100\n",
            "35/35 - 0s - loss: 0.9219 - department_output_layer_loss: 0.5762 - attrition_output_layer_loss: 0.3456 - department_output_layer_accuracy: 0.7768 - attrition_output_layer_accuracy: 0.8657 - val_loss: 1.0318 - val_department_output_layer_loss: 0.6116 - val_attrition_output_layer_loss: 0.4202 - val_department_output_layer_accuracy: 0.7582 - val_attrition_output_layer_accuracy: 0.8315 - 86ms/epoch - 2ms/step\n",
            "Epoch 14/100\n",
            "35/35 - 0s - loss: 0.9021 - department_output_layer_loss: 0.5644 - attrition_output_layer_loss: 0.3377 - department_output_layer_accuracy: 0.7813 - attrition_output_layer_accuracy: 0.8684 - val_loss: 1.0193 - val_department_output_layer_loss: 0.6033 - val_attrition_output_layer_loss: 0.4160 - val_department_output_layer_accuracy: 0.7582 - val_attrition_output_layer_accuracy: 0.8342 - 92ms/epoch - 3ms/step\n",
            "Epoch 15/100\n",
            "35/35 - 0s - loss: 0.8862 - department_output_layer_loss: 0.5568 - attrition_output_layer_loss: 0.3294 - department_output_layer_accuracy: 0.7877 - attrition_output_layer_accuracy: 0.8739 - val_loss: 1.0083 - val_department_output_layer_loss: 0.6002 - val_attrition_output_layer_loss: 0.4082 - val_department_output_layer_accuracy: 0.7609 - val_attrition_output_layer_accuracy: 0.8370 - 85ms/epoch - 2ms/step\n",
            "Epoch 16/100\n",
            "35/35 - 0s - loss: 0.8735 - department_output_layer_loss: 0.5510 - attrition_output_layer_loss: 0.3225 - department_output_layer_accuracy: 0.7877 - attrition_output_layer_accuracy: 0.8775 - val_loss: 1.0026 - val_department_output_layer_loss: 0.5975 - val_attrition_output_layer_loss: 0.4051 - val_department_output_layer_accuracy: 0.7609 - val_attrition_output_layer_accuracy: 0.8370 - 89ms/epoch - 3ms/step\n",
            "Epoch 17/100\n",
            "35/35 - 0s - loss: 0.8628 - department_output_layer_loss: 0.5465 - attrition_output_layer_loss: 0.3164 - department_output_layer_accuracy: 0.7913 - attrition_output_layer_accuracy: 0.8775 - val_loss: 0.9958 - val_department_output_layer_loss: 0.5958 - val_attrition_output_layer_loss: 0.4001 - val_department_output_layer_accuracy: 0.7609 - val_attrition_output_layer_accuracy: 0.8370 - 85ms/epoch - 2ms/step\n",
            "Epoch 18/100\n",
            "35/35 - 0s - loss: 0.8520 - department_output_layer_loss: 0.5408 - attrition_output_layer_loss: 0.3112 - department_output_layer_accuracy: 0.7895 - attrition_output_layer_accuracy: 0.8811 - val_loss: 0.9881 - val_department_output_layer_loss: 0.5924 - val_attrition_output_layer_loss: 0.3956 - val_department_output_layer_accuracy: 0.7636 - val_attrition_output_layer_accuracy: 0.8315 - 92ms/epoch - 3ms/step\n",
            "Epoch 19/100\n",
            "35/35 - 0s - loss: 0.8443 - department_output_layer_loss: 0.5384 - attrition_output_layer_loss: 0.3059 - department_output_layer_accuracy: 0.7904 - attrition_output_layer_accuracy: 0.8838 - val_loss: 0.9840 - val_department_output_layer_loss: 0.5913 - val_attrition_output_layer_loss: 0.3927 - val_department_output_layer_accuracy: 0.7636 - val_attrition_output_layer_accuracy: 0.8397 - 83ms/epoch - 2ms/step\n",
            "Epoch 20/100\n",
            "35/35 - 0s - loss: 0.8346 - department_output_layer_loss: 0.5327 - attrition_output_layer_loss: 0.3018 - department_output_layer_accuracy: 0.7904 - attrition_output_layer_accuracy: 0.8848 - val_loss: 0.9779 - val_department_output_layer_loss: 0.5912 - val_attrition_output_layer_loss: 0.3867 - val_department_output_layer_accuracy: 0.7582 - val_attrition_output_layer_accuracy: 0.8424 - 90ms/epoch - 3ms/step\n",
            "Epoch 21/100\n",
            "35/35 - 0s - loss: 0.8266 - department_output_layer_loss: 0.5284 - attrition_output_layer_loss: 0.2982 - department_output_layer_accuracy: 0.7940 - attrition_output_layer_accuracy: 0.8875 - val_loss: 0.9837 - val_department_output_layer_loss: 0.5931 - val_attrition_output_layer_loss: 0.3906 - val_department_output_layer_accuracy: 0.7609 - val_attrition_output_layer_accuracy: 0.8370 - 93ms/epoch - 3ms/step\n",
            "Epoch 22/100\n",
            "35/35 - 0s - loss: 0.8190 - department_output_layer_loss: 0.5251 - attrition_output_layer_loss: 0.2939 - department_output_layer_accuracy: 0.7949 - attrition_output_layer_accuracy: 0.8902 - val_loss: 0.9721 - val_department_output_layer_loss: 0.5893 - val_attrition_output_layer_loss: 0.3828 - val_department_output_layer_accuracy: 0.7609 - val_attrition_output_layer_accuracy: 0.8560 - 95ms/epoch - 3ms/step\n",
            "Epoch 23/100\n",
            "35/35 - 0s - loss: 0.8120 - department_output_layer_loss: 0.5216 - attrition_output_layer_loss: 0.2903 - department_output_layer_accuracy: 0.7985 - attrition_output_layer_accuracy: 0.8884 - val_loss: 0.9732 - val_department_output_layer_loss: 0.5893 - val_attrition_output_layer_loss: 0.3839 - val_department_output_layer_accuracy: 0.7609 - val_attrition_output_layer_accuracy: 0.8533 - 88ms/epoch - 3ms/step\n",
            "Epoch 24/100\n",
            "35/35 - 0s - loss: 0.8047 - department_output_layer_loss: 0.5165 - attrition_output_layer_loss: 0.2882 - department_output_layer_accuracy: 0.7995 - attrition_output_layer_accuracy: 0.8893 - val_loss: 0.9747 - val_department_output_layer_loss: 0.5906 - val_attrition_output_layer_loss: 0.3841 - val_department_output_layer_accuracy: 0.7609 - val_attrition_output_layer_accuracy: 0.8505 - 92ms/epoch - 3ms/step\n",
            "Epoch 25/100\n",
            "35/35 - 0s - loss: 0.7980 - department_output_layer_loss: 0.5139 - attrition_output_layer_loss: 0.2842 - department_output_layer_accuracy: 0.8022 - attrition_output_layer_accuracy: 0.8929 - val_loss: 0.9750 - val_department_output_layer_loss: 0.5903 - val_attrition_output_layer_loss: 0.3848 - val_department_output_layer_accuracy: 0.7609 - val_attrition_output_layer_accuracy: 0.8505 - 84ms/epoch - 2ms/step\n",
            "Epoch 26/100\n",
            "35/35 - 0s - loss: 0.7929 - department_output_layer_loss: 0.5110 - attrition_output_layer_loss: 0.2819 - department_output_layer_accuracy: 0.8013 - attrition_output_layer_accuracy: 0.8920 - val_loss: 0.9778 - val_department_output_layer_loss: 0.5933 - val_attrition_output_layer_loss: 0.3845 - val_department_output_layer_accuracy: 0.7609 - val_attrition_output_layer_accuracy: 0.8505 - 82ms/epoch - 2ms/step\n",
            "Epoch 27/100\n",
            "35/35 - 0s - loss: 0.7877 - department_output_layer_loss: 0.5079 - attrition_output_layer_loss: 0.2799 - department_output_layer_accuracy: 0.8031 - attrition_output_layer_accuracy: 0.8911 - val_loss: 0.9714 - val_department_output_layer_loss: 0.5896 - val_attrition_output_layer_loss: 0.3818 - val_department_output_layer_accuracy: 0.7582 - val_attrition_output_layer_accuracy: 0.8505 - 83ms/epoch - 2ms/step\n",
            "Epoch 28/100\n",
            "35/35 - 0s - loss: 0.7812 - department_output_layer_loss: 0.5043 - attrition_output_layer_loss: 0.2769 - department_output_layer_accuracy: 0.8058 - attrition_output_layer_accuracy: 0.8929 - val_loss: 0.9759 - val_department_output_layer_loss: 0.5911 - val_attrition_output_layer_loss: 0.3848 - val_department_output_layer_accuracy: 0.7609 - val_attrition_output_layer_accuracy: 0.8533 - 83ms/epoch - 2ms/step\n",
            "Epoch 29/100\n",
            "35/35 - 0s - loss: 0.7786 - department_output_layer_loss: 0.5019 - attrition_output_layer_loss: 0.2767 - department_output_layer_accuracy: 0.8049 - attrition_output_layer_accuracy: 0.8938 - val_loss: 0.9821 - val_department_output_layer_loss: 0.5931 - val_attrition_output_layer_loss: 0.3890 - val_department_output_layer_accuracy: 0.7663 - val_attrition_output_layer_accuracy: 0.8505 - 91ms/epoch - 3ms/step\n",
            "Epoch 30/100\n",
            "35/35 - 0s - loss: 0.7740 - department_output_layer_loss: 0.4998 - attrition_output_layer_loss: 0.2742 - department_output_layer_accuracy: 0.8013 - attrition_output_layer_accuracy: 0.8938 - val_loss: 0.9727 - val_department_output_layer_loss: 0.5898 - val_attrition_output_layer_loss: 0.3828 - val_department_output_layer_accuracy: 0.7582 - val_attrition_output_layer_accuracy: 0.8533 - 85ms/epoch - 2ms/step\n",
            "Epoch 31/100\n",
            "35/35 - 0s - loss: 0.7703 - department_output_layer_loss: 0.5002 - attrition_output_layer_loss: 0.2701 - department_output_layer_accuracy: 0.8076 - attrition_output_layer_accuracy: 0.8956 - val_loss: 0.9737 - val_department_output_layer_loss: 0.5913 - val_attrition_output_layer_loss: 0.3824 - val_department_output_layer_accuracy: 0.7582 - val_attrition_output_layer_accuracy: 0.8505 - 85ms/epoch - 2ms/step\n",
            "Epoch 32/100\n",
            "35/35 - 0s - loss: 0.7613 - department_output_layer_loss: 0.4932 - attrition_output_layer_loss: 0.2682 - department_output_layer_accuracy: 0.8058 - attrition_output_layer_accuracy: 0.8911 - val_loss: 0.9772 - val_department_output_layer_loss: 0.5937 - val_attrition_output_layer_loss: 0.3835 - val_department_output_layer_accuracy: 0.7690 - val_attrition_output_layer_accuracy: 0.8478 - 91ms/epoch - 3ms/step\n",
            "Epoch 33/100\n",
            "35/35 - 0s - loss: 0.7575 - department_output_layer_loss: 0.4908 - attrition_output_layer_loss: 0.2667 - department_output_layer_accuracy: 0.8049 - attrition_output_layer_accuracy: 0.8938 - val_loss: 0.9761 - val_department_output_layer_loss: 0.5946 - val_attrition_output_layer_loss: 0.3815 - val_department_output_layer_accuracy: 0.7582 - val_attrition_output_layer_accuracy: 0.8478 - 92ms/epoch - 3ms/step\n",
            "Epoch 34/100\n",
            "35/35 - 0s - loss: 0.7524 - department_output_layer_loss: 0.4871 - attrition_output_layer_loss: 0.2653 - department_output_layer_accuracy: 0.8131 - attrition_output_layer_accuracy: 0.8956 - val_loss: 0.9849 - val_department_output_layer_loss: 0.5984 - val_attrition_output_layer_loss: 0.3865 - val_department_output_layer_accuracy: 0.7636 - val_attrition_output_layer_accuracy: 0.8424 - 93ms/epoch - 3ms/step\n",
            "Epoch 35/100\n",
            "35/35 - 0s - loss: 0.7484 - department_output_layer_loss: 0.4857 - attrition_output_layer_loss: 0.2627 - department_output_layer_accuracy: 0.8058 - attrition_output_layer_accuracy: 0.8975 - val_loss: 0.9793 - val_department_output_layer_loss: 0.5969 - val_attrition_output_layer_loss: 0.3824 - val_department_output_layer_accuracy: 0.7609 - val_attrition_output_layer_accuracy: 0.8451 - 98ms/epoch - 3ms/step\n",
            "Epoch 36/100\n",
            "35/35 - 0s - loss: 0.7457 - department_output_layer_loss: 0.4832 - attrition_output_layer_loss: 0.2625 - department_output_layer_accuracy: 0.8122 - attrition_output_layer_accuracy: 0.8993 - val_loss: 0.9854 - val_department_output_layer_loss: 0.6010 - val_attrition_output_layer_loss: 0.3844 - val_department_output_layer_accuracy: 0.7582 - val_attrition_output_layer_accuracy: 0.8451 - 112ms/epoch - 3ms/step\n",
            "Epoch 37/100\n",
            "35/35 - 0s - loss: 0.7401 - department_output_layer_loss: 0.4799 - attrition_output_layer_loss: 0.2602 - department_output_layer_accuracy: 0.8122 - attrition_output_layer_accuracy: 0.8993 - val_loss: 0.9824 - val_department_output_layer_loss: 0.5987 - val_attrition_output_layer_loss: 0.3838 - val_department_output_layer_accuracy: 0.7582 - val_attrition_output_layer_accuracy: 0.8451 - 102ms/epoch - 3ms/step\n",
            "Epoch 38/100\n",
            "35/35 - 0s - loss: 0.7363 - department_output_layer_loss: 0.4772 - attrition_output_layer_loss: 0.2591 - department_output_layer_accuracy: 0.8085 - attrition_output_layer_accuracy: 0.9011 - val_loss: 0.9894 - val_department_output_layer_loss: 0.6014 - val_attrition_output_layer_loss: 0.3880 - val_department_output_layer_accuracy: 0.7582 - val_attrition_output_layer_accuracy: 0.8451 - 84ms/epoch - 2ms/step\n",
            "Epoch 39/100\n",
            "35/35 - 0s - loss: 0.7341 - department_output_layer_loss: 0.4773 - attrition_output_layer_loss: 0.2568 - department_output_layer_accuracy: 0.8140 - attrition_output_layer_accuracy: 0.9002 - val_loss: 0.9911 - val_department_output_layer_loss: 0.6045 - val_attrition_output_layer_loss: 0.3866 - val_department_output_layer_accuracy: 0.7609 - val_attrition_output_layer_accuracy: 0.8451 - 81ms/epoch - 2ms/step\n",
            "Epoch 40/100\n",
            "35/35 - 0s - loss: 0.7286 - department_output_layer_loss: 0.4724 - attrition_output_layer_loss: 0.2562 - department_output_layer_accuracy: 0.8149 - attrition_output_layer_accuracy: 0.9011 - val_loss: 0.9933 - val_department_output_layer_loss: 0.6064 - val_attrition_output_layer_loss: 0.3869 - val_department_output_layer_accuracy: 0.7609 - val_attrition_output_layer_accuracy: 0.8451 - 84ms/epoch - 2ms/step\n",
            "Epoch 41/100\n",
            "35/35 - 0s - loss: 0.7244 - department_output_layer_loss: 0.4699 - attrition_output_layer_loss: 0.2545 - department_output_layer_accuracy: 0.8131 - attrition_output_layer_accuracy: 0.9029 - val_loss: 0.9919 - val_department_output_layer_loss: 0.6060 - val_attrition_output_layer_loss: 0.3860 - val_department_output_layer_accuracy: 0.7609 - val_attrition_output_layer_accuracy: 0.8451 - 82ms/epoch - 2ms/step\n",
            "Epoch 42/100\n",
            "35/35 - 0s - loss: 0.7214 - department_output_layer_loss: 0.4681 - attrition_output_layer_loss: 0.2533 - department_output_layer_accuracy: 0.8167 - attrition_output_layer_accuracy: 0.9056 - val_loss: 0.9980 - val_department_output_layer_loss: 0.6091 - val_attrition_output_layer_loss: 0.3889 - val_department_output_layer_accuracy: 0.7609 - val_attrition_output_layer_accuracy: 0.8424 - 88ms/epoch - 3ms/step\n",
            "Epoch 43/100\n",
            "35/35 - 0s - loss: 0.7174 - department_output_layer_loss: 0.4666 - attrition_output_layer_loss: 0.2508 - department_output_layer_accuracy: 0.8149 - attrition_output_layer_accuracy: 0.9074 - val_loss: 1.0031 - val_department_output_layer_loss: 0.6144 - val_attrition_output_layer_loss: 0.3887 - val_department_output_layer_accuracy: 0.7636 - val_attrition_output_layer_accuracy: 0.8451 - 90ms/epoch - 3ms/step\n",
            "Epoch 44/100\n",
            "35/35 - 0s - loss: 0.7125 - department_output_layer_loss: 0.4627 - attrition_output_layer_loss: 0.2498 - department_output_layer_accuracy: 0.8176 - attrition_output_layer_accuracy: 0.9047 - val_loss: 1.0027 - val_department_output_layer_loss: 0.6150 - val_attrition_output_layer_loss: 0.3877 - val_department_output_layer_accuracy: 0.7527 - val_attrition_output_layer_accuracy: 0.8424 - 92ms/epoch - 3ms/step\n",
            "Epoch 45/100\n",
            "35/35 - 0s - loss: 0.7086 - department_output_layer_loss: 0.4605 - attrition_output_layer_loss: 0.2481 - department_output_layer_accuracy: 0.8167 - attrition_output_layer_accuracy: 0.9065 - val_loss: 1.0032 - val_department_output_layer_loss: 0.6167 - val_attrition_output_layer_loss: 0.3865 - val_department_output_layer_accuracy: 0.7609 - val_attrition_output_layer_accuracy: 0.8424 - 92ms/epoch - 3ms/step\n",
            "Epoch 46/100\n",
            "35/35 - 0s - loss: 0.7050 - department_output_layer_loss: 0.4577 - attrition_output_layer_loss: 0.2473 - department_output_layer_accuracy: 0.8167 - attrition_output_layer_accuracy: 0.9074 - val_loss: 1.0052 - val_department_output_layer_loss: 0.6179 - val_attrition_output_layer_loss: 0.3873 - val_department_output_layer_accuracy: 0.7527 - val_attrition_output_layer_accuracy: 0.8424 - 97ms/epoch - 3ms/step\n",
            "Epoch 47/100\n",
            "35/35 - 0s - loss: 0.7009 - department_output_layer_loss: 0.4552 - attrition_output_layer_loss: 0.2457 - department_output_layer_accuracy: 0.8167 - attrition_output_layer_accuracy: 0.9038 - val_loss: 1.0068 - val_department_output_layer_loss: 0.6205 - val_attrition_output_layer_loss: 0.3863 - val_department_output_layer_accuracy: 0.7527 - val_attrition_output_layer_accuracy: 0.8451 - 85ms/epoch - 2ms/step\n",
            "Epoch 48/100\n",
            "35/35 - 0s - loss: 0.6979 - department_output_layer_loss: 0.4522 - attrition_output_layer_loss: 0.2458 - department_output_layer_accuracy: 0.8212 - attrition_output_layer_accuracy: 0.9074 - val_loss: 1.0090 - val_department_output_layer_loss: 0.6214 - val_attrition_output_layer_loss: 0.3876 - val_department_output_layer_accuracy: 0.7609 - val_attrition_output_layer_accuracy: 0.8451 - 91ms/epoch - 3ms/step\n",
            "Epoch 49/100\n",
            "35/35 - 0s - loss: 0.6943 - department_output_layer_loss: 0.4499 - attrition_output_layer_loss: 0.2443 - department_output_layer_accuracy: 0.8240 - attrition_output_layer_accuracy: 0.9074 - val_loss: 1.0135 - val_department_output_layer_loss: 0.6252 - val_attrition_output_layer_loss: 0.3883 - val_department_output_layer_accuracy: 0.7554 - val_attrition_output_layer_accuracy: 0.8424 - 99ms/epoch - 3ms/step\n",
            "Epoch 50/100\n",
            "35/35 - 0s - loss: 0.6913 - department_output_layer_loss: 0.4481 - attrition_output_layer_loss: 0.2431 - department_output_layer_accuracy: 0.8185 - attrition_output_layer_accuracy: 0.9083 - val_loss: 1.0183 - val_department_output_layer_loss: 0.6268 - val_attrition_output_layer_loss: 0.3914 - val_department_output_layer_accuracy: 0.7582 - val_attrition_output_layer_accuracy: 0.8451 - 93ms/epoch - 3ms/step\n",
            "Epoch 51/100\n",
            "35/35 - 0s - loss: 0.6870 - department_output_layer_loss: 0.4449 - attrition_output_layer_loss: 0.2421 - department_output_layer_accuracy: 0.8249 - attrition_output_layer_accuracy: 0.9074 - val_loss: 1.0173 - val_department_output_layer_loss: 0.6268 - val_attrition_output_layer_loss: 0.3905 - val_department_output_layer_accuracy: 0.7527 - val_attrition_output_layer_accuracy: 0.8451 - 100ms/epoch - 3ms/step\n",
            "Epoch 52/100\n",
            "35/35 - 0s - loss: 0.6827 - department_output_layer_loss: 0.4411 - attrition_output_layer_loss: 0.2416 - department_output_layer_accuracy: 0.8221 - attrition_output_layer_accuracy: 0.9074 - val_loss: 1.0214 - val_department_output_layer_loss: 0.6314 - val_attrition_output_layer_loss: 0.3899 - val_department_output_layer_accuracy: 0.7582 - val_attrition_output_layer_accuracy: 0.8451 - 100ms/epoch - 3ms/step\n",
            "Epoch 53/100\n",
            "35/35 - 0s - loss: 0.6801 - department_output_layer_loss: 0.4399 - attrition_output_layer_loss: 0.2402 - department_output_layer_accuracy: 0.8258 - attrition_output_layer_accuracy: 0.9129 - val_loss: 1.0234 - val_department_output_layer_loss: 0.6312 - val_attrition_output_layer_loss: 0.3922 - val_department_output_layer_accuracy: 0.7582 - val_attrition_output_layer_accuracy: 0.8451 - 99ms/epoch - 3ms/step\n",
            "Epoch 54/100\n",
            "35/35 - 0s - loss: 0.6753 - department_output_layer_loss: 0.4365 - attrition_output_layer_loss: 0.2388 - department_output_layer_accuracy: 0.8303 - attrition_output_layer_accuracy: 0.9120 - val_loss: 1.0292 - val_department_output_layer_loss: 0.6350 - val_attrition_output_layer_loss: 0.3942 - val_department_output_layer_accuracy: 0.7582 - val_attrition_output_layer_accuracy: 0.8424 - 94ms/epoch - 3ms/step\n",
            "Epoch 55/100\n",
            "35/35 - 0s - loss: 0.6737 - department_output_layer_loss: 0.4354 - attrition_output_layer_loss: 0.2383 - department_output_layer_accuracy: 0.8321 - attrition_output_layer_accuracy: 0.9120 - val_loss: 1.0253 - val_department_output_layer_loss: 0.6352 - val_attrition_output_layer_loss: 0.3901 - val_department_output_layer_accuracy: 0.7554 - val_attrition_output_layer_accuracy: 0.8424 - 115ms/epoch - 3ms/step\n",
            "Epoch 56/100\n",
            "35/35 - 0s - loss: 0.6716 - department_output_layer_loss: 0.4335 - attrition_output_layer_loss: 0.2382 - department_output_layer_accuracy: 0.8276 - attrition_output_layer_accuracy: 0.9129 - val_loss: 1.0321 - val_department_output_layer_loss: 0.6376 - val_attrition_output_layer_loss: 0.3946 - val_department_output_layer_accuracy: 0.7446 - val_attrition_output_layer_accuracy: 0.8424 - 89ms/epoch - 3ms/step\n",
            "Epoch 57/100\n",
            "35/35 - 0s - loss: 0.6673 - department_output_layer_loss: 0.4294 - attrition_output_layer_loss: 0.2379 - department_output_layer_accuracy: 0.8339 - attrition_output_layer_accuracy: 0.9111 - val_loss: 1.0355 - val_department_output_layer_loss: 0.6418 - val_attrition_output_layer_loss: 0.3938 - val_department_output_layer_accuracy: 0.7527 - val_attrition_output_layer_accuracy: 0.8397 - 84ms/epoch - 2ms/step\n",
            "Epoch 58/100\n",
            "35/35 - 0s - loss: 0.6635 - department_output_layer_loss: 0.4276 - attrition_output_layer_loss: 0.2359 - department_output_layer_accuracy: 0.8348 - attrition_output_layer_accuracy: 0.9102 - val_loss: 1.0435 - val_department_output_layer_loss: 0.6458 - val_attrition_output_layer_loss: 0.3977 - val_department_output_layer_accuracy: 0.7473 - val_attrition_output_layer_accuracy: 0.8424 - 92ms/epoch - 3ms/step\n",
            "Epoch 59/100\n",
            "35/35 - 0s - loss: 0.6630 - department_output_layer_loss: 0.4281 - attrition_output_layer_loss: 0.2349 - department_output_layer_accuracy: 0.8285 - attrition_output_layer_accuracy: 0.9093 - val_loss: 1.0402 - val_department_output_layer_loss: 0.6445 - val_attrition_output_layer_loss: 0.3958 - val_department_output_layer_accuracy: 0.7391 - val_attrition_output_layer_accuracy: 0.8424 - 84ms/epoch - 2ms/step\n",
            "Epoch 60/100\n",
            "35/35 - 0s - loss: 0.6579 - department_output_layer_loss: 0.4237 - attrition_output_layer_loss: 0.2342 - department_output_layer_accuracy: 0.8376 - attrition_output_layer_accuracy: 0.9120 - val_loss: 1.0473 - val_department_output_layer_loss: 0.6500 - val_attrition_output_layer_loss: 0.3973 - val_department_output_layer_accuracy: 0.7500 - val_attrition_output_layer_accuracy: 0.8370 - 84ms/epoch - 2ms/step\n",
            "Epoch 61/100\n",
            "35/35 - 0s - loss: 0.6552 - department_output_layer_loss: 0.4205 - attrition_output_layer_loss: 0.2347 - department_output_layer_accuracy: 0.8376 - attrition_output_layer_accuracy: 0.9083 - val_loss: 1.0521 - val_department_output_layer_loss: 0.6536 - val_attrition_output_layer_loss: 0.3985 - val_department_output_layer_accuracy: 0.7500 - val_attrition_output_layer_accuracy: 0.8397 - 83ms/epoch - 2ms/step\n",
            "Epoch 62/100\n",
            "35/35 - 0s - loss: 0.6542 - department_output_layer_loss: 0.4215 - attrition_output_layer_loss: 0.2328 - department_output_layer_accuracy: 0.8339 - attrition_output_layer_accuracy: 0.9102 - val_loss: 1.0529 - val_department_output_layer_loss: 0.6571 - val_attrition_output_layer_loss: 0.3958 - val_department_output_layer_accuracy: 0.7364 - val_attrition_output_layer_accuracy: 0.8370 - 108ms/epoch - 3ms/step\n",
            "Epoch 63/100\n",
            "35/35 - 0s - loss: 0.6510 - department_output_layer_loss: 0.4182 - attrition_output_layer_loss: 0.2328 - department_output_layer_accuracy: 0.8376 - attrition_output_layer_accuracy: 0.9102 - val_loss: 1.0523 - val_department_output_layer_loss: 0.6571 - val_attrition_output_layer_loss: 0.3952 - val_department_output_layer_accuracy: 0.7473 - val_attrition_output_layer_accuracy: 0.8397 - 116ms/epoch - 3ms/step\n",
            "Epoch 64/100\n",
            "35/35 - 0s - loss: 0.6482 - department_output_layer_loss: 0.4149 - attrition_output_layer_loss: 0.2333 - department_output_layer_accuracy: 0.8394 - attrition_output_layer_accuracy: 0.9083 - val_loss: 1.0539 - val_department_output_layer_loss: 0.6598 - val_attrition_output_layer_loss: 0.3941 - val_department_output_layer_accuracy: 0.7364 - val_attrition_output_layer_accuracy: 0.8370 - 83ms/epoch - 2ms/step\n",
            "Epoch 65/100\n",
            "35/35 - 0s - loss: 0.6434 - department_output_layer_loss: 0.4133 - attrition_output_layer_loss: 0.2302 - department_output_layer_accuracy: 0.8421 - attrition_output_layer_accuracy: 0.9056 - val_loss: 1.0646 - val_department_output_layer_loss: 0.6661 - val_attrition_output_layer_loss: 0.3985 - val_department_output_layer_accuracy: 0.7391 - val_attrition_output_layer_accuracy: 0.8397 - 91ms/epoch - 3ms/step\n",
            "Epoch 66/100\n",
            "35/35 - 0s - loss: 0.6429 - department_output_layer_loss: 0.4120 - attrition_output_layer_loss: 0.2309 - department_output_layer_accuracy: 0.8430 - attrition_output_layer_accuracy: 0.9093 - val_loss: 1.0636 - val_department_output_layer_loss: 0.6682 - val_attrition_output_layer_loss: 0.3954 - val_department_output_layer_accuracy: 0.7418 - val_attrition_output_layer_accuracy: 0.8370 - 116ms/epoch - 3ms/step\n",
            "Epoch 67/100\n",
            "35/35 - 0s - loss: 0.6390 - department_output_layer_loss: 0.4100 - attrition_output_layer_loss: 0.2290 - department_output_layer_accuracy: 0.8421 - attrition_output_layer_accuracy: 0.9102 - val_loss: 1.0650 - val_department_output_layer_loss: 0.6685 - val_attrition_output_layer_loss: 0.3965 - val_department_output_layer_accuracy: 0.7473 - val_attrition_output_layer_accuracy: 0.8370 - 101ms/epoch - 3ms/step\n",
            "Epoch 68/100\n",
            "35/35 - 0s - loss: 0.6366 - department_output_layer_loss: 0.4082 - attrition_output_layer_loss: 0.2284 - department_output_layer_accuracy: 0.8376 - attrition_output_layer_accuracy: 0.9111 - val_loss: 1.0745 - val_department_output_layer_loss: 0.6739 - val_attrition_output_layer_loss: 0.4006 - val_department_output_layer_accuracy: 0.7418 - val_attrition_output_layer_accuracy: 0.8370 - 125ms/epoch - 4ms/step\n",
            "Epoch 69/100\n",
            "35/35 - 0s - loss: 0.6337 - department_output_layer_loss: 0.4062 - attrition_output_layer_loss: 0.2275 - department_output_layer_accuracy: 0.8376 - attrition_output_layer_accuracy: 0.9093 - val_loss: 1.0726 - val_department_output_layer_loss: 0.6764 - val_attrition_output_layer_loss: 0.3962 - val_department_output_layer_accuracy: 0.7391 - val_attrition_output_layer_accuracy: 0.8370 - 84ms/epoch - 2ms/step\n",
            "Epoch 70/100\n",
            "35/35 - 0s - loss: 0.6310 - department_output_layer_loss: 0.4036 - attrition_output_layer_loss: 0.2274 - department_output_layer_accuracy: 0.8385 - attrition_output_layer_accuracy: 0.9093 - val_loss: 1.0810 - val_department_output_layer_loss: 0.6814 - val_attrition_output_layer_loss: 0.3996 - val_department_output_layer_accuracy: 0.7446 - val_attrition_output_layer_accuracy: 0.8342 - 85ms/epoch - 2ms/step\n",
            "Epoch 71/100\n",
            "35/35 - 0s - loss: 0.6277 - department_output_layer_loss: 0.4007 - attrition_output_layer_loss: 0.2270 - department_output_layer_accuracy: 0.8385 - attrition_output_layer_accuracy: 0.9111 - val_loss: 1.0774 - val_department_output_layer_loss: 0.6802 - val_attrition_output_layer_loss: 0.3971 - val_department_output_layer_accuracy: 0.7337 - val_attrition_output_layer_accuracy: 0.8342 - 91ms/epoch - 3ms/step\n",
            "Epoch 72/100\n",
            "35/35 - 0s - loss: 0.6268 - department_output_layer_loss: 0.4011 - attrition_output_layer_loss: 0.2256 - department_output_layer_accuracy: 0.8421 - attrition_output_layer_accuracy: 0.9129 - val_loss: 1.0838 - val_department_output_layer_loss: 0.6846 - val_attrition_output_layer_loss: 0.3992 - val_department_output_layer_accuracy: 0.7391 - val_attrition_output_layer_accuracy: 0.8370 - 83ms/epoch - 2ms/step\n",
            "Epoch 73/100\n",
            "35/35 - 0s - loss: 0.6220 - department_output_layer_loss: 0.3968 - attrition_output_layer_loss: 0.2252 - department_output_layer_accuracy: 0.8448 - attrition_output_layer_accuracy: 0.9138 - val_loss: 1.0877 - val_department_output_layer_loss: 0.6918 - val_attrition_output_layer_loss: 0.3958 - val_department_output_layer_accuracy: 0.7391 - val_attrition_output_layer_accuracy: 0.8342 - 92ms/epoch - 3ms/step\n",
            "Epoch 74/100\n",
            "35/35 - 0s - loss: 0.6211 - department_output_layer_loss: 0.3955 - attrition_output_layer_loss: 0.2256 - department_output_layer_accuracy: 0.8457 - attrition_output_layer_accuracy: 0.9129 - val_loss: 1.0888 - val_department_output_layer_loss: 0.6924 - val_attrition_output_layer_loss: 0.3963 - val_department_output_layer_accuracy: 0.7364 - val_attrition_output_layer_accuracy: 0.8397 - 91ms/epoch - 3ms/step\n",
            "Epoch 75/100\n",
            "35/35 - 0s - loss: 0.6171 - department_output_layer_loss: 0.3935 - attrition_output_layer_loss: 0.2236 - department_output_layer_accuracy: 0.8512 - attrition_output_layer_accuracy: 0.9093 - val_loss: 1.0989 - val_department_output_layer_loss: 0.6973 - val_attrition_output_layer_loss: 0.4016 - val_department_output_layer_accuracy: 0.7364 - val_attrition_output_layer_accuracy: 0.8370 - 108ms/epoch - 3ms/step\n",
            "Epoch 76/100\n",
            "35/35 - 0s - loss: 0.6191 - department_output_layer_loss: 0.3952 - attrition_output_layer_loss: 0.2239 - department_output_layer_accuracy: 0.8485 - attrition_output_layer_accuracy: 0.9138 - val_loss: 1.0980 - val_department_output_layer_loss: 0.6968 - val_attrition_output_layer_loss: 0.4012 - val_department_output_layer_accuracy: 0.7418 - val_attrition_output_layer_accuracy: 0.8342 - 91ms/epoch - 3ms/step\n",
            "Epoch 77/100\n",
            "35/35 - 0s - loss: 0.6162 - department_output_layer_loss: 0.3931 - attrition_output_layer_loss: 0.2232 - department_output_layer_accuracy: 0.8439 - attrition_output_layer_accuracy: 0.9129 - val_loss: 1.1012 - val_department_output_layer_loss: 0.7026 - val_attrition_output_layer_loss: 0.3986 - val_department_output_layer_accuracy: 0.7337 - val_attrition_output_layer_accuracy: 0.8370 - 83ms/epoch - 2ms/step\n",
            "Epoch 78/100\n",
            "35/35 - 0s - loss: 0.6140 - department_output_layer_loss: 0.3920 - attrition_output_layer_loss: 0.2220 - department_output_layer_accuracy: 0.8539 - attrition_output_layer_accuracy: 0.9120 - val_loss: 1.1112 - val_department_output_layer_loss: 0.7082 - val_attrition_output_layer_loss: 0.4030 - val_department_output_layer_accuracy: 0.7310 - val_attrition_output_layer_accuracy: 0.8342 - 97ms/epoch - 3ms/step\n",
            "Epoch 79/100\n",
            "35/35 - 0s - loss: 0.6113 - department_output_layer_loss: 0.3897 - attrition_output_layer_loss: 0.2216 - department_output_layer_accuracy: 0.8512 - attrition_output_layer_accuracy: 0.9165 - val_loss: 1.1178 - val_department_output_layer_loss: 0.7109 - val_attrition_output_layer_loss: 0.4069 - val_department_output_layer_accuracy: 0.7364 - val_attrition_output_layer_accuracy: 0.8288 - 93ms/epoch - 3ms/step\n",
            "Epoch 80/100\n",
            "35/35 - 0s - loss: 0.6078 - department_output_layer_loss: 0.3862 - attrition_output_layer_loss: 0.2216 - department_output_layer_accuracy: 0.8557 - attrition_output_layer_accuracy: 0.9102 - val_loss: 1.1211 - val_department_output_layer_loss: 0.7142 - val_attrition_output_layer_loss: 0.4070 - val_department_output_layer_accuracy: 0.7446 - val_attrition_output_layer_accuracy: 0.8342 - 99ms/epoch - 3ms/step\n",
            "Epoch 81/100\n",
            "35/35 - 0s - loss: 0.6024 - department_output_layer_loss: 0.3831 - attrition_output_layer_loss: 0.2193 - department_output_layer_accuracy: 0.8575 - attrition_output_layer_accuracy: 0.9183 - val_loss: 1.1221 - val_department_output_layer_loss: 0.7176 - val_attrition_output_layer_loss: 0.4045 - val_department_output_layer_accuracy: 0.7364 - val_attrition_output_layer_accuracy: 0.8342 - 100ms/epoch - 3ms/step\n",
            "Epoch 82/100\n",
            "35/35 - 0s - loss: 0.6002 - department_output_layer_loss: 0.3808 - attrition_output_layer_loss: 0.2194 - department_output_layer_accuracy: 0.8575 - attrition_output_layer_accuracy: 0.9174 - val_loss: 1.1289 - val_department_output_layer_loss: 0.7214 - val_attrition_output_layer_loss: 0.4074 - val_department_output_layer_accuracy: 0.7446 - val_attrition_output_layer_accuracy: 0.8342 - 89ms/epoch - 3ms/step\n",
            "Epoch 83/100\n",
            "35/35 - 0s - loss: 0.5973 - department_output_layer_loss: 0.3791 - attrition_output_layer_loss: 0.2182 - department_output_layer_accuracy: 0.8575 - attrition_output_layer_accuracy: 0.9211 - val_loss: 1.1288 - val_department_output_layer_loss: 0.7230 - val_attrition_output_layer_loss: 0.4057 - val_department_output_layer_accuracy: 0.7364 - val_attrition_output_layer_accuracy: 0.8397 - 85ms/epoch - 2ms/step\n",
            "Epoch 84/100\n",
            "35/35 - 0s - loss: 0.5978 - department_output_layer_loss: 0.3798 - attrition_output_layer_loss: 0.2180 - department_output_layer_accuracy: 0.8593 - attrition_output_layer_accuracy: 0.9183 - val_loss: 1.1340 - val_department_output_layer_loss: 0.7234 - val_attrition_output_layer_loss: 0.4106 - val_department_output_layer_accuracy: 0.7500 - val_attrition_output_layer_accuracy: 0.8342 - 93ms/epoch - 3ms/step\n",
            "Epoch 85/100\n",
            "35/35 - 0s - loss: 0.5932 - department_output_layer_loss: 0.3768 - attrition_output_layer_loss: 0.2164 - department_output_layer_accuracy: 0.8539 - attrition_output_layer_accuracy: 0.9201 - val_loss: 1.1383 - val_department_output_layer_loss: 0.7324 - val_attrition_output_layer_loss: 0.4059 - val_department_output_layer_accuracy: 0.7337 - val_attrition_output_layer_accuracy: 0.8397 - 82ms/epoch - 2ms/step\n",
            "Epoch 86/100\n",
            "35/35 - 0s - loss: 0.5927 - department_output_layer_loss: 0.3760 - attrition_output_layer_loss: 0.2167 - department_output_layer_accuracy: 0.8603 - attrition_output_layer_accuracy: 0.9229 - val_loss: 1.1370 - val_department_output_layer_loss: 0.7317 - val_attrition_output_layer_loss: 0.4053 - val_department_output_layer_accuracy: 0.7418 - val_attrition_output_layer_accuracy: 0.8397 - 84ms/epoch - 2ms/step\n",
            "Epoch 87/100\n",
            "35/35 - 0s - loss: 0.5904 - department_output_layer_loss: 0.3739 - attrition_output_layer_loss: 0.2165 - department_output_layer_accuracy: 0.8630 - attrition_output_layer_accuracy: 0.9192 - val_loss: 1.1448 - val_department_output_layer_loss: 0.7391 - val_attrition_output_layer_loss: 0.4057 - val_department_output_layer_accuracy: 0.7500 - val_attrition_output_layer_accuracy: 0.8397 - 83ms/epoch - 2ms/step\n",
            "Epoch 88/100\n",
            "35/35 - 0s - loss: 0.5861 - department_output_layer_loss: 0.3713 - attrition_output_layer_loss: 0.2148 - department_output_layer_accuracy: 0.8639 - attrition_output_layer_accuracy: 0.9201 - val_loss: 1.1475 - val_department_output_layer_loss: 0.7420 - val_attrition_output_layer_loss: 0.4055 - val_department_output_layer_accuracy: 0.7418 - val_attrition_output_layer_accuracy: 0.8397 - 85ms/epoch - 2ms/step\n",
            "Epoch 89/100\n",
            "35/35 - 0s - loss: 0.5827 - department_output_layer_loss: 0.3691 - attrition_output_layer_loss: 0.2136 - department_output_layer_accuracy: 0.8621 - attrition_output_layer_accuracy: 0.9183 - val_loss: 1.1539 - val_department_output_layer_loss: 0.7437 - val_attrition_output_layer_loss: 0.4102 - val_department_output_layer_accuracy: 0.7500 - val_attrition_output_layer_accuracy: 0.8370 - 83ms/epoch - 2ms/step\n",
            "Epoch 90/100\n",
            "35/35 - 0s - loss: 0.5815 - department_output_layer_loss: 0.3682 - attrition_output_layer_loss: 0.2133 - department_output_layer_accuracy: 0.8657 - attrition_output_layer_accuracy: 0.9192 - val_loss: 1.1606 - val_department_output_layer_loss: 0.7478 - val_attrition_output_layer_loss: 0.4128 - val_department_output_layer_accuracy: 0.7391 - val_attrition_output_layer_accuracy: 0.8370 - 100ms/epoch - 3ms/step\n",
            "Epoch 91/100\n",
            "35/35 - 0s - loss: 0.5791 - department_output_layer_loss: 0.3667 - attrition_output_layer_loss: 0.2124 - department_output_layer_accuracy: 0.8639 - attrition_output_layer_accuracy: 0.9174 - val_loss: 1.1678 - val_department_output_layer_loss: 0.7531 - val_attrition_output_layer_loss: 0.4146 - val_department_output_layer_accuracy: 0.7446 - val_attrition_output_layer_accuracy: 0.8370 - 118ms/epoch - 3ms/step\n",
            "Epoch 92/100\n",
            "35/35 - 0s - loss: 0.5757 - department_output_layer_loss: 0.3641 - attrition_output_layer_loss: 0.2116 - department_output_layer_accuracy: 0.8684 - attrition_output_layer_accuracy: 0.9229 - val_loss: 1.1610 - val_department_output_layer_loss: 0.7546 - val_attrition_output_layer_loss: 0.4064 - val_department_output_layer_accuracy: 0.7283 - val_attrition_output_layer_accuracy: 0.8370 - 107ms/epoch - 3ms/step\n",
            "Epoch 93/100\n",
            "35/35 - 0s - loss: 0.5725 - department_output_layer_loss: 0.3615 - attrition_output_layer_loss: 0.2110 - department_output_layer_accuracy: 0.8675 - attrition_output_layer_accuracy: 0.9211 - val_loss: 1.1660 - val_department_output_layer_loss: 0.7548 - val_attrition_output_layer_loss: 0.4112 - val_department_output_layer_accuracy: 0.7364 - val_attrition_output_layer_accuracy: 0.8397 - 83ms/epoch - 2ms/step\n",
            "Epoch 94/100\n",
            "35/35 - 0s - loss: 0.5693 - department_output_layer_loss: 0.3592 - attrition_output_layer_loss: 0.2101 - department_output_layer_accuracy: 0.8666 - attrition_output_layer_accuracy: 0.9265 - val_loss: 1.1753 - val_department_output_layer_loss: 0.7620 - val_attrition_output_layer_loss: 0.4132 - val_department_output_layer_accuracy: 0.7391 - val_attrition_output_layer_accuracy: 0.8342 - 91ms/epoch - 3ms/step\n",
            "Epoch 95/100\n",
            "35/35 - 0s - loss: 0.5672 - department_output_layer_loss: 0.3585 - attrition_output_layer_loss: 0.2087 - department_output_layer_accuracy: 0.8702 - attrition_output_layer_accuracy: 0.9238 - val_loss: 1.1795 - val_department_output_layer_loss: 0.7620 - val_attrition_output_layer_loss: 0.4176 - val_department_output_layer_accuracy: 0.7473 - val_attrition_output_layer_accuracy: 0.8424 - 111ms/epoch - 3ms/step\n",
            "Epoch 96/100\n",
            "35/35 - 0s - loss: 0.5652 - department_output_layer_loss: 0.3572 - attrition_output_layer_loss: 0.2079 - department_output_layer_accuracy: 0.8730 - attrition_output_layer_accuracy: 0.9247 - val_loss: 1.1796 - val_department_output_layer_loss: 0.7668 - val_attrition_output_layer_loss: 0.4127 - val_department_output_layer_accuracy: 0.7446 - val_attrition_output_layer_accuracy: 0.8397 - 89ms/epoch - 3ms/step\n",
            "Epoch 97/100\n",
            "35/35 - 0s - loss: 0.5638 - department_output_layer_loss: 0.3559 - attrition_output_layer_loss: 0.2079 - department_output_layer_accuracy: 0.8684 - attrition_output_layer_accuracy: 0.9229 - val_loss: 1.1892 - val_department_output_layer_loss: 0.7721 - val_attrition_output_layer_loss: 0.4172 - val_department_output_layer_accuracy: 0.7473 - val_attrition_output_layer_accuracy: 0.8370 - 89ms/epoch - 3ms/step\n",
            "Epoch 98/100\n",
            "35/35 - 0s - loss: 0.5659 - department_output_layer_loss: 0.3582 - attrition_output_layer_loss: 0.2077 - department_output_layer_accuracy: 0.8721 - attrition_output_layer_accuracy: 0.9211 - val_loss: 1.1881 - val_department_output_layer_loss: 0.7753 - val_attrition_output_layer_loss: 0.4127 - val_department_output_layer_accuracy: 0.7391 - val_attrition_output_layer_accuracy: 0.8424 - 94ms/epoch - 3ms/step\n",
            "Epoch 99/100\n",
            "35/35 - 0s - loss: 0.5615 - department_output_layer_loss: 0.3549 - attrition_output_layer_loss: 0.2066 - department_output_layer_accuracy: 0.8666 - attrition_output_layer_accuracy: 0.9211 - val_loss: 1.1882 - val_department_output_layer_loss: 0.7756 - val_attrition_output_layer_loss: 0.4125 - val_department_output_layer_accuracy: 0.7120 - val_attrition_output_layer_accuracy: 0.8424 - 101ms/epoch - 3ms/step\n",
            "Epoch 100/100\n",
            "35/35 - 0s - loss: 0.5597 - department_output_layer_loss: 0.3529 - attrition_output_layer_loss: 0.2067 - department_output_layer_accuracy: 0.8721 - attrition_output_layer_accuracy: 0.9274 - val_loss: 1.1929 - val_department_output_layer_loss: 0.7778 - val_attrition_output_layer_loss: 0.4150 - val_department_output_layer_accuracy: 0.7255 - val_attrition_output_layer_accuracy: 0.8451 - 89ms/epoch - 3ms/step\n"
          ]
        },
        {
          "data": {
            "text/plain": [
              "<keras.src.callbacks.History at 0x1e32434f310>"
            ]
          },
          "execution_count": 160,
          "metadata": {},
          "output_type": "execute_result"
        }
      ],
      "source": [
        "# Train the model\n",
        "model.fit(\n",
        "    X_train_scaled,\n",
        "    {'department_output_layer': y_train_department_encoded, 'attrition_output_layer': y_train_attrition_encoded},\n",
        "    epochs=100,\n",
        "    shuffle=True,\n",
        "    validation_data=(X_test_scaled, {'department_output_layer': y_test_department_encoded, 'attrition_output_layer': y_test_attrition_encoded}),\n",
        "    verbose=2\n",
        ")"
      ]
    },
    {
      "cell_type": "code",
      "execution_count": 161,
      "metadata": {},
      "outputs": [],
      "source": [
        "metrics_names = model.metrics_names"
      ]
    },
    {
      "cell_type": "code",
      "execution_count": 162,
      "metadata": {
        "colab": {
          "base_uri": "https://localhost:8080/"
        },
        "id": "VsMoaQlgGc3U",
        "outputId": "1bd4e601-e964-4abc-ad83-aeecf6b696be"
      },
      "outputs": [
        {
          "name": "stdout",
          "output_type": "stream",
          "text": [
            "12/12 - 0s - loss: 1.1929 - department_output_layer_loss: 0.7778 - attrition_output_layer_loss: 0.4150 - department_output_layer_accuracy: 0.7255 - attrition_output_layer_accuracy: 0.8451 - 39ms/epoch - 3ms/step\n"
          ]
        }
      ],
      "source": [
        "# Evaluate the model branches with the testing data\n",
        "metrics = model.evaluate(X_test_scaled, {'department_output_layer': y_test_department_encoded, 'attrition_output_layer': y_test_attrition_encoded}, verbose=2)"
      ]
    },
    {
      "cell_type": "code",
      "execution_count": 163,
      "metadata": {},
      "outputs": [
        {
          "data": {
            "text/html": [
              "<div>\n",
              "<style scoped>\n",
              "    .dataframe tbody tr th:only-of-type {\n",
              "        vertical-align: middle;\n",
              "    }\n",
              "\n",
              "    .dataframe tbody tr th {\n",
              "        vertical-align: top;\n",
              "    }\n",
              "\n",
              "    .dataframe thead th {\n",
              "        text-align: right;\n",
              "    }\n",
              "</style>\n",
              "<table border=\"1\" class=\"dataframe\">\n",
              "  <thead>\n",
              "    <tr style=\"text-align: right;\">\n",
              "      <th></th>\n",
              "      <th>loss</th>\n",
              "      <th>department_output_layer_loss</th>\n",
              "      <th>attrition_output_layer_loss</th>\n",
              "      <th>department_output_layer_accuracy</th>\n",
              "      <th>attrition_output_layer_accuracy</th>\n",
              "    </tr>\n",
              "  </thead>\n",
              "  <tbody>\n",
              "    <tr>\n",
              "      <th>0</th>\n",
              "      <td>1.192871</td>\n",
              "      <td>0.777826</td>\n",
              "      <td>0.415045</td>\n",
              "      <td>0.725543</td>\n",
              "      <td>0.845109</td>\n",
              "    </tr>\n",
              "  </tbody>\n",
              "</table>\n",
              "</div>"
            ],
            "text/plain": [
              "       loss  department_output_layer_loss  attrition_output_layer_loss  \\\n",
              "0  1.192871                      0.777826                     0.415045   \n",
              "\n",
              "   department_output_layer_accuracy  attrition_output_layer_accuracy  \n",
              "0                          0.725543                         0.845109  "
            ]
          },
          "execution_count": 163,
          "metadata": {},
          "output_type": "execute_result"
        }
      ],
      "source": [
        "summary_df = pd.DataFrame(metrics).T\n",
        "summary_df.columns = metrics_names\n",
        "summary_df"
      ]
    },
    {
      "cell_type": "code",
      "execution_count": 164,
      "metadata": {
        "colab": {
          "base_uri": "https://localhost:8080/"
        },
        "id": "ZlCtlHi0Vt54",
        "outputId": "bc21ef3e-80c2-4b38-9c29-79515bc23dec"
      },
      "outputs": [
        {
          "name": "stdout",
          "output_type": "stream",
          "text": [
            "Department Accuracy: 0.7255434989929199\n",
            "Attrition Accuracy: 0.845108687877655\n"
          ]
        }
      ],
      "source": [
        "# Print the accuracy for both department and attrition\n",
        "print(f\"Department Accuracy: {metrics[3]}\")\n",
        "print(f\"Attrition Accuracy: {metrics[4]}\")"
      ]
    },
    {
      "cell_type": "code",
      "execution_count": 165,
      "metadata": {},
      "outputs": [
        {
          "name": "stdout",
          "output_type": "stream",
          "text": [
            "12/12 [==============================] - 0s 1ms/step\n"
          ]
        },
        {
          "data": {
            "image/png": "[encoded data removed]",
            "text/plain": [
              "<Figure size 640x480 with 2 Axes>"
            ]
          },
          "metadata": {},
          "output_type": "display_data"
        }
      ],
      "source": [
        "#import confusion matrix   \n",
        "from sklearn.metrics import ConfusionMatrixDisplay\n",
        "\n",
        "predictions = model.predict(X_test_scaled)\n",
        "\n",
        "department_predictions = np.argmax(predictions[0], axis=1)\n",
        "attrition_predictions = np.round(predictions[1])\n",
        "\n",
        "#generate confusion matrix for department\n",
        "department_cm = ConfusionMatrixDisplay.from_predictions(np.argmax(y_test_department_encoded, axis=1), department_predictions)"
      ]
    },
    {
      "cell_type": "code",
      "execution_count": 166,
      "metadata": {},
      "outputs": [
        {
          "data": {
            "image/png": "[encoded data removed]",
            "text/plain": [
              "<Figure size 640x480 with 2 Axes>"
            ]
          },
          "metadata": {},
          "output_type": "display_data"
        }
      ],
      "source": [
        "#get confusion matrix for attrition\n",
        "attrition_cm = ConfusionMatrixDisplay.from_predictions(np.argmax(y_test_attrition_encoded, axis=1), np.argmax(attrition_predictions, axis=1))"
      ]
    },
    {
      "cell_type": "markdown",
      "metadata": {
        "id": "eGSyfsZfWOQM"
      },
      "source": [
        "# Summary\n",
        "\n",
        "In the provided space below, briefly answer the following questions.\n",
        "\n",
        "1. Is accuracy the best metric to use on this data? Why or why not?\n",
        "\n",
        "2. What activation functions did you choose for your output layers, and why?\n",
        "\n",
        "3. Can you name a few ways that this model might be improved?"
      ]
    },
    {
      "cell_type": "markdown",
      "metadata": {
        "id": "pi9SLpFnWvbF"
      },
      "source": [
        "YOUR ANSWERS HERE\n",
        "\n",
        "1. Accuracy is probably not the best metric. The data is imbalanced and will present high accuracy values even if the minority class is completely ignored in our predictions. \n",
        "2. As department was multiclass, softmax was used. For attrition, a binary class, sigmoid was used.\n",
        "3. Increasing the amount of data, undersampling or oversampling the training data, and experimenting with different layer configurations"
      ]
    },
    {
      "cell_type": "markdown",
      "metadata": {},
      "source": []
    }
  ],
  "metadata": {
    "colab": {
      "provenance": []
    },
    "kernelspec": {
      "display_name": "Python 3",
      "language": "python",
      "name": "python3"
    },
    "language_info": {
      "codemirror_mode": {
        "name": "ipython",
        "version": 3
      },
      "file_extension": ".py",
      "mimetype": "text/x-python",
      "name": "python",
      "nbconvert_exporter": "python",
      "pygments_lexer": "ipython3",
      "version": "3.11.4"
    },
    "vscode": {
      "interpreter": {
        "hash": "31f2aee4e71d21fbe5cf8b01ff0e069b9275f58929596ceb00d14d90e3e16cd6"
      }
    }
  },
  "nbformat": 4,
  "nbformat_minor": 0
}
